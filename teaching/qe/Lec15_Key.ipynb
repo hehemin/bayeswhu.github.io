{
 "cells": [
  {
   "cell_type": "markdown",
   "metadata": {},
   "source": [
    "## Exercise 1"
   ]
  },
  {
   "cell_type": "markdown",
   "metadata": {},
   "source": [
    "Here's one solution that does the job we want.  If you feel like a further exercise you can probably speed up some of the computations and then increase the number of agents.  \n"
   ]
  },
  {
   "cell_type": "code",
   "execution_count": null,
   "metadata": {
    "collapsed": false
   },
   "outputs": [],
   "source": [
    "%matplotlib inline"
   ]
  },
  {
   "cell_type": "code",
   "execution_count": null,
   "metadata": {
    "collapsed": false
   },
   "outputs": [],
   "source": [
    "from random import uniform, seed\n",
    "from math import sqrt\n",
    "import matplotlib.pyplot as plt\n",
    "\n",
    "seed(10)  # for reproducible random numbers\n",
    "\n",
    "class Agent:\n",
    "\n",
    "    def __init__(self, type):\n",
    "        self.type = type\n",
    "        self.draw_location()\n",
    "\n",
    "    def draw_location(self):\n",
    "        self.location = uniform(0, 1), uniform(0, 1)\n",
    "\n",
    "    def get_distance(self, other):\n",
    "        \"Computes euclidean distance between self and other agent.\"\n",
    "        a = (self.location[0] - other.location[0])**2\n",
    "        b = (self.location[1] - other.location[1])**2\n",
    "        return sqrt(a + b)\n",
    "\n",
    "    def happy(self, agents):\n",
    "        \"True if sufficient number of nearest neighbors are of the same type.\"\n",
    "        distances = []\n",
    "        # distances is a list of pairs (d, agent), where d is distance from\n",
    "        # agent to self\n",
    "        for agent in agents:\n",
    "            if self != agent:\n",
    "                distance = self.get_distance(agent)\n",
    "                distances.append((distance, agent))\n",
    "        # == Sort from smallest to largest, according to distance == #\n",
    "        distances.sort()\n",
    "        # == Extract the neighboring agents == #\n",
    "        neighbors = [agent for d, agent in distances[:num_neighbors]]\n",
    "        # == Count how many neighbors have the same type as self == #\n",
    "        num_same_type = sum(self.type == agent.type for agent in neighbors)\n",
    "        return num_same_type >= require_same_type\n",
    "\n",
    "    def update(self, agents):\n",
    "        \"If not happy, then randomly choose new locations until happy.\"\n",
    "        while not self.happy(agents):\n",
    "            self.draw_location()\n",
    "\n",
    "            \n",
    "def plot_distribution(agents, cycle_num):\n",
    "    \"Plot the distribution of agents after cycle_num rounds of the loop.\"\n",
    "    x_values_0, y_values_0 = [], []\n",
    "    x_values_1, y_values_1 = [], []\n",
    "    # == Obtain locations of each type == #\n",
    "    for agent in agents:\n",
    "        x, y = agent.location\n",
    "        if agent.type == 0:\n",
    "            x_values_0.append(x)\n",
    "            y_values_0.append(y)\n",
    "        else:\n",
    "            x_values_1.append(x)\n",
    "            y_values_1.append(y)\n",
    "    fig, ax = plt.subplots(figsize=(8, 8))\n",
    "    plot_args = {'markersize' : 8, 'alpha' : 0.6}\n",
    "    ax.set_axis_bgcolor('azure')\n",
    "    ax.plot(x_values_0, y_values_0, 'o', markerfacecolor='orange',  **plot_args)\n",
    "    ax.plot(x_values_1, y_values_1, 'o', markerfacecolor='green', **plot_args)\n",
    "    ax.set_title('Cycle {}'.format(cycle_num - 1))\n",
    "    plt.show()\n",
    "\n",
    "# == Main == #\n",
    "\n",
    "num_of_type_0 = 250\n",
    "num_of_type_1 = 250\n",
    "num_neighbors = 10      # Number of agents regarded as neighbors\n",
    "require_same_type = 7   # Want at least this many neighbors to be same type\n",
    "\n",
    "# == Create a list of agents == #\n",
    "agents = [Agent(0) for i in range(num_of_type_0)]\n",
    "agents.extend(Agent(1) for i in range(num_of_type_1))\n",
    "\n",
    "\n",
    "count = 1\n",
    "# ==  Loop until none wishes to move == #\n",
    "while 1:\n",
    "    print('Entering loop ', count)\n",
    "    plot_distribution(agents, count)\n",
    "    count += 1\n",
    "    no_one_moved = True\n",
    "    for agent in agents:\n",
    "        old_location = agent.location\n",
    "        agent.update(agents)\n",
    "        if agent.location != old_location:\n",
    "            no_one_moved = False\n",
    "    if no_one_moved:\n",
    "        break\n",
    "        \n",
    "print('Converged, terminating.')\n"
   ]
  }
 ],
 "metadata": {
  "kernelspec": {
   "display_name": "Python 3",
   "language": "python",
   "name": "python3"
  },
  "language_info": {
   "codemirror_mode": {
    "name": "ipython",
    "version": 3
   },
   "file_extension": ".py",
   "mimetype": "text/x-python",
   "name": "python",
   "nbconvert_exporter": "python",
   "pygments_lexer": "ipython3",
   "version": "3.4.3"
  }
 },
 "nbformat": 4,
 "nbformat_minor": 0
}
