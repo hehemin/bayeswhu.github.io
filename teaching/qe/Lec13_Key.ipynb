{
 "cells": [
  {
   "cell_type": "code",
   "execution_count": null,
   "metadata": {
    "collapsed": false
   },
   "outputs": [],
   "source": [
    "%matplotlib inline"
   ]
  },
  {
   "cell_type": "code",
   "execution_count": null,
   "metadata": {
    "collapsed": false
   },
   "outputs": [],
   "source": [
    "import numpy as np\n",
    "import matplotlib.pyplot as plt\n",
    "from quantecon import mc_compute_stationary, mc_sample_path"
   ]
  },
  {
   "cell_type": "markdown",
   "metadata": {},
   "source": [
    "## Exercise 1"
   ]
  },
  {
   "cell_type": "markdown",
   "metadata": {},
   "source": [
    "\n",
    "Compute the fraction of time that the worker spends unemployed,\n",
    "and compare it to the stationary probability.\n"
   ]
  },
  {
   "cell_type": "code",
   "execution_count": null,
   "metadata": {
    "collapsed": false
   },
   "outputs": [],
   "source": [
    "\n",
    "alpha = beta = 0.1\n",
    "N = 10000\n",
    "p = beta / (alpha + beta)\n",
    "\n",
    "P = ((1 - alpha, alpha),   # Careful: P and p are distinct\n",
    "     (beta, 1 - beta))\n",
    "P = np.array(P)\n",
    "\n",
    "fig, ax = plt.subplots(figsize=(9, 6))\n",
    "ax.set_ylim(-0.25, 0.25)\n",
    "ax.grid()\n",
    "ax.hlines(0, 0, N, lw=2, alpha=0.6)  # Horizonal line at zero\n",
    "\n",
    "for x0, col in ((0, 'blue'), (1, 'green')):\n",
    "    # == Generate time series for worker that starts at x0 == #\n",
    "    X = mc_sample_path(P, x0, N)\n",
    "    # == Compute fraction of time spent unemployed, for each n == #\n",
    "    X_bar = (X == 0).cumsum() / (1 + np.arange(N, dtype=float)) \n",
    "    # == Plot == #\n",
    "    ax.fill_between(range(N), np.zeros(N), X_bar - p, color=col, alpha=0.1)\n",
    "    ax.plot(X_bar - p, color=col, label=r'$X_0 = \\, {} $'.format(x0))\n",
    "    ax.plot(X_bar - p, 'k-', alpha=0.6)  # Overlay in black--make lines clearer\n",
    "\n",
    "ax.legend(loc='upper right')\n",
    "\n"
   ]
  },
  {
   "cell_type": "markdown",
   "metadata": {},
   "source": [
    "## Exercise 2"
   ]
  },
  {
   "cell_type": "markdown",
   "metadata": {},
   "source": [
    "First save the data into a file called `web_graph_data.txt` by executing the next cell"
   ]
  },
  {
   "cell_type": "code",
   "execution_count": null,
   "metadata": {
    "collapsed": false
   },
   "outputs": [],
   "source": [
    "%%file web_graph_data.txt\n",
    "a -> d;\n",
    "a -> f;\n",
    "b -> j;\n",
    "b -> k;\n",
    "b -> m;\n",
    "c -> c;\n",
    "c -> g;\n",
    "c -> j;\n",
    "c -> m;\n",
    "d -> f;\n",
    "d -> h;\n",
    "d -> k;\n",
    "e -> d;\n",
    "e -> h;\n",
    "e -> l;\n",
    "f -> a;\n",
    "f -> b;\n",
    "f -> j;\n",
    "f -> l;\n",
    "g -> b;\n",
    "g -> j;\n",
    "h -> d;\n",
    "h -> g;\n",
    "h -> l;\n",
    "h -> m;\n",
    "i -> g;\n",
    "i -> h;\n",
    "i -> n;\n",
    "j -> e;\n",
    "j -> i;\n",
    "j -> k;\n",
    "k -> n;\n",
    "l -> m;\n",
    "m -> g;\n",
    "n -> c;\n",
    "n -> j;\n",
    "n -> m;\n"
   ]
  },
  {
   "cell_type": "code",
   "execution_count": null,
   "metadata": {
    "collapsed": false
   },
   "outputs": [],
   "source": [
    "\"\"\"\n",
    "Return list of pages, ordered by rank\n",
    "\"\"\"\n",
    "import numpy as np\n",
    "from operator import itemgetter\n",
    "import re\n",
    "\n",
    "infile = 'web_graph_data.txt'\n",
    "alphabet = 'abcdefghijklmnopqrstuvwxyz'\n",
    "\n",
    "n = 14 # Total number of web pages (nodes)\n",
    "\n",
    "# == Create a matrix Q indicating existence of links == #\n",
    "#  * Q[i, j] = 1 if there is a link from i to j\n",
    "#  * Q[i, j] = 0 otherwise\n",
    "Q = np.zeros((n, n), dtype=int)\n",
    "f = open(infile, 'r')\n",
    "edges = f.readlines()\n",
    "f.close()\n",
    "for edge in edges:\n",
    "    from_node, to_node = re.findall('\\w', edge)\n",
    "    i, j = alphabet.index(from_node), alphabet.index(to_node)\n",
    "    Q[i, j] = 1\n",
    "# == Create the corresponding Markov matrix P == #\n",
    "P = np.empty((n, n))\n",
    "for i in range(n):\n",
    "    P[i,:] = Q[i,:] / Q[i,:].sum()\n",
    "# == Compute the stationary distribution r == #\n",
    "r = mc_compute_stationary(P)[0]\n",
    "ranked_pages = {alphabet[i] : r[i] for i in range(n)}\n",
    "# == Print solution, sorted from highest to lowest rank == #\n",
    "print('Rankings\\n ***')\n",
    "for name, rank in sorted(ranked_pages.items(), key=itemgetter(1), reverse=1):\n",
    "    print('{0}: {1:.4}'.format(name, rank))"
   ]
  },
  {
   "cell_type": "markdown",
   "metadata": {},
   "source": [
    "## Exercise 3"
   ]
  },
  {
   "cell_type": "code",
   "execution_count": null,
   "metadata": {
    "collapsed": false
   },
   "outputs": [],
   "source": [
    "\"\"\"\n",
    "Discretizes Gaussian linear AR(1) processes via Tauchen's method\n",
    "\"\"\"\n",
    "\n",
    "import numpy as np\n",
    "from scipy.stats import norm\n",
    "\n",
    "\n",
    "def tauchen(rho, sigma_u, m=3, n=7):\n",
    "    \"\"\"\n",
    "    Computes the Markov matrix associated with a discretized version of\n",
    "    the linear Gaussian AR(1) process\n",
    "        y_{t+1} = rho * y_t + u_{t+1}\n",
    "    according to Tauchen's method.  Here {u_t} is an iid Gaussian\n",
    "    process with zero mean.\n",
    "    Parameters\n",
    "    ----------\n",
    "    rho : scalar(float)\n",
    "        The autocorrelation coefficient\n",
    "    sigma_u : scalar(float)\n",
    "        The standard deviation of the random process\n",
    "    m : scalar(int), optional(default=3)\n",
    "        The number of standard deviations to approximate out to\n",
    "    n : scalar(int), optional(default=7)\n",
    "        The number of states to use in the approximation\n",
    "    Returns\n",
    "    -------\n",
    "    x : array_like(float, ndim=1)\n",
    "        The state space of the discretized process\n",
    "    P : array_like(float, ndim=2)\n",
    "        The Markov transition matrix where P[i, j] is the probability\n",
    "        of transitioning from x[i] to x[j]\n",
    "    \"\"\"\n",
    "    F = norm(loc=0, scale=sigma_u).cdf\n",
    "\n",
    "    # standard deviation of y_t\n",
    "    std_y = np.sqrt(sigma_u**2 / (1-rho**2))\n",
    "\n",
    "    # top of discrete state space\n",
    "    x_max = m * std_y\n",
    "\n",
    "    # bottom of discrete state space\n",
    "    x_min = - x_max\n",
    "\n",
    "    # discretized state space\n",
    "    x = np.linspace(x_min, x_max, n)\n",
    "\n",
    "    step = (x_max - x_min) / (n - 1)\n",
    "    half_step = 0.5 * step\n",
    "    P = np.empty((n, n))\n",
    "\n",
    "    for i in range(n):\n",
    "        P[i, 0] = F(x[0]-rho * x[i] + half_step)\n",
    "        P[i, n-1] = 1 - F(x[n-1] - rho * x[i] - half_step)\n",
    "        for j in range(1, n-1):\n",
    "            z = x[j] - rho * x[i]\n",
    "            P[i, j] = F(z + half_step) - F(z - half_step)\n",
    "    return x, P"
   ]
  }
 ],
 "metadata": {
  "kernelspec": {
   "display_name": "Python 3",
   "language": "python",
   "name": "python3"
  },
  "language_info": {
   "codemirror_mode": {
    "name": "ipython",
    "version": 3
   },
   "file_extension": ".py",
   "mimetype": "text/x-python",
   "name": "python",
   "nbconvert_exporter": "python",
   "pygments_lexer": "ipython3",
   "version": "3.4.3"
  }
 },
 "nbformat": 4,
 "nbformat_minor": 0
}
